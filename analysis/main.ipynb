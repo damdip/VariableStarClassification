{
 "cells": [
  {
   "cell_type": "markdown",
   "metadata": {},
   "source": [
    "## Data analysis"
   ]
  },
  {
   "cell_type": "code",
   "execution_count": 2,
   "metadata": {},
   "outputs": [
    {
     "data": {
      "text/html": [
       "<div>\n",
       "<style scoped>\n",
       "    .dataframe tbody tr th:only-of-type {\n",
       "        vertical-align: middle;\n",
       "    }\n",
       "\n",
       "    .dataframe tbody tr th {\n",
       "        vertical-align: top;\n",
       "    }\n",
       "\n",
       "    .dataframe thead th {\n",
       "        text-align: right;\n",
       "    }\n",
       "</style>\n",
       "<table border=\"1\" class=\"dataframe\">\n",
       "  <thead>\n",
       "    <tr style=\"text-align: right;\">\n",
       "      <th></th>\n",
       "      <th>#</th>\n",
       "      <th>LINEARobjectID</th>\n",
       "      <th>LCtype</th>\n",
       "      <th>P</th>\n",
       "      <th>A</th>\n",
       "      <th>mmed</th>\n",
       "      <th>stdev</th>\n",
       "      <th>rms</th>\n",
       "      <th>Lchi2pdf</th>\n",
       "      <th>nObs</th>\n",
       "      <th>skew</th>\n",
       "      <th>kurt</th>\n",
       "      <th>LR</th>\n",
       "      <th>CUF</th>\n",
       "      <th>t2</th>\n",
       "      <th>t3</th>\n",
       "    </tr>\n",
       "  </thead>\n",
       "  <tbody>\n",
       "    <tr>\n",
       "      <th>0</th>\n",
       "      <td>NaN</td>\n",
       "      <td>2522</td>\n",
       "      <td>5</td>\n",
       "      <td>0.238812</td>\n",
       "      <td>0.68</td>\n",
       "      <td>17.00</td>\n",
       "      <td>0.22</td>\n",
       "      <td>0.25</td>\n",
       "      <td>0.543</td>\n",
       "      <td>225</td>\n",
       "      <td>0.75</td>\n",
       "      <td>0.11</td>\n",
       "      <td>0.317</td>\n",
       "      <td>1</td>\n",
       "      <td>0</td>\n",
       "      <td>0</td>\n",
       "    </tr>\n",
       "    <tr>\n",
       "      <th>1</th>\n",
       "      <td>NaN</td>\n",
       "      <td>4822</td>\n",
       "      <td>5</td>\n",
       "      <td>0.403043</td>\n",
       "      <td>0.32</td>\n",
       "      <td>14.19</td>\n",
       "      <td>0.11</td>\n",
       "      <td>0.12</td>\n",
       "      <td>2.102</td>\n",
       "      <td>126</td>\n",
       "      <td>0.46</td>\n",
       "      <td>-0.89</td>\n",
       "      <td>1.868</td>\n",
       "      <td>1</td>\n",
       "      <td>0</td>\n",
       "      <td>0</td>\n",
       "    </tr>\n",
       "    <tr>\n",
       "      <th>2</th>\n",
       "      <td>NaN</td>\n",
       "      <td>17249</td>\n",
       "      <td>5</td>\n",
       "      <td>0.252815</td>\n",
       "      <td>0.57</td>\n",
       "      <td>16.16</td>\n",
       "      <td>0.18</td>\n",
       "      <td>0.19</td>\n",
       "      <td>0.876</td>\n",
       "      <td>178</td>\n",
       "      <td>1.16</td>\n",
       "      <td>0.44</td>\n",
       "      <td>0.584</td>\n",
       "      <td>1</td>\n",
       "      <td>0</td>\n",
       "      <td>0</td>\n",
       "    </tr>\n",
       "    <tr>\n",
       "      <th>3</th>\n",
       "      <td>NaN</td>\n",
       "      <td>18469</td>\n",
       "      <td>5</td>\n",
       "      <td>0.428962</td>\n",
       "      <td>0.46</td>\n",
       "      <td>14.17</td>\n",
       "      <td>0.16</td>\n",
       "      <td>0.20</td>\n",
       "      <td>2.501</td>\n",
       "      <td>200</td>\n",
       "      <td>0.70</td>\n",
       "      <td>-0.59</td>\n",
       "      <td>2.320</td>\n",
       "      <td>1</td>\n",
       "      <td>0</td>\n",
       "      <td>0</td>\n",
       "    </tr>\n",
       "    <tr>\n",
       "      <th>4</th>\n",
       "      <td>NaN</td>\n",
       "      <td>28800</td>\n",
       "      <td>5</td>\n",
       "      <td>0.332774</td>\n",
       "      <td>0.28</td>\n",
       "      <td>15.31</td>\n",
       "      <td>0.11</td>\n",
       "      <td>0.11</td>\n",
       "      <td>1.214</td>\n",
       "      <td>240</td>\n",
       "      <td>1.84</td>\n",
       "      <td>7.94</td>\n",
       "      <td>0.960</td>\n",
       "      <td>1</td>\n",
       "      <td>0</td>\n",
       "      <td>0</td>\n",
       "    </tr>\n",
       "  </tbody>\n",
       "</table>\n",
       "</div>"
      ],
      "text/plain": [
       "    #  LINEARobjectID  LCtype         P     A   mmed  stdev   rms  Lchi2pdf  \\\n",
       "0 NaN            2522       5  0.238812  0.68  17.00   0.22  0.25     0.543   \n",
       "1 NaN            4822       5  0.403043  0.32  14.19   0.11  0.12     2.102   \n",
       "2 NaN           17249       5  0.252815  0.57  16.16   0.18  0.19     0.876   \n",
       "3 NaN           18469       5  0.428962  0.46  14.17   0.16  0.20     2.501   \n",
       "4 NaN           28800       5  0.332774  0.28  15.31   0.11  0.11     1.214   \n",
       "\n",
       "   nObs  skew  kurt     LR  CUF  t2  t3  \n",
       "0   225  0.75  0.11  0.317    1   0   0  \n",
       "1   126  0.46 -0.89  1.868    1   0   0  \n",
       "2   178  1.16  0.44  0.584    1   0   0  \n",
       "3   200  0.70 -0.59  2.320    1   0   0  \n",
       "4   240  1.84  7.94  0.960    1   0   0  "
      ]
     },
     "execution_count": 2,
     "metadata": {},
     "output_type": "execute_result"
    }
   ],
   "source": [
    "import pandas as pd\n",
    "\n",
    "# File path\n",
    "\n",
    "file_path = r\"C:/Users/d.dipadova/ClassificationOfVariableStars/VariableStarClassification/data/PLV_LINEAR.csv\"\n",
    "# file_path = r\"C:/Users/hp/ClassificationOfVariableStars/VariableStarClassification/data/PLV_LINEAR.csv\"\n",
    "\n",
    "# Carica solo le prime 10 righe per diagnosticare la struttura\n",
    "data = pd.read_csv(file_path, sep=\";\")\n",
    "\n",
    "data.head()"
   ]
  },
  {
   "cell_type": "markdown",
   "metadata": {},
   "source": [
    "## Data cleaning"
   ]
  },
  {
   "cell_type": "code",
   "execution_count": 9,
   "metadata": {},
   "outputs": [
    {
     "data": {
      "text/plain": [
       "#                 7194\n",
       "LINEARobjectID       0\n",
       "LCtype               0\n",
       "P                    0\n",
       "A                    0\n",
       "mmed                 0\n",
       "stdev                0\n",
       "rms                  0\n",
       "Lchi2pdf             0\n",
       "nObs                 0\n",
       "skew                 0\n",
       "kurt                 0\n",
       "LR                   0\n",
       "CUF                  0\n",
       "t2                   0\n",
       "t3                   0\n",
       "dtype: int64"
      ]
     },
     "execution_count": 9,
     "metadata": {},
     "output_type": "execute_result"
    }
   ],
   "source": [
    "data.isnull().sum() # il dataset non presenta valori mancanti\n"
   ]
  },
  {
   "cell_type": "code",
   "execution_count": 11,
   "metadata": {},
   "outputs": [],
   "source": [
    "data = data.drop_duplicates()  # Rimuove righe duplicate\n"
   ]
  },
  {
   "cell_type": "markdown",
   "metadata": {},
   "source": [
    "## Salvataggio file csv\n",
    "Dopo la fase di data_cleaning il file può essere scaricato e utilizzato per il training del modello"
   ]
  },
  {
   "cell_type": "code",
   "execution_count": 23,
   "metadata": {},
   "outputs": [
    {
     "name": "stdout",
     "output_type": "stream",
     "text": [
      "c:\\Users\\hp\\ClassificationOfVariableStars\\VariableStarClassification\\data\\output\\test_output.csv\n"
     ]
    }
   ],
   "source": [
    "import os\n",
    "\n",
    "# Ottieni la directory corrente\n",
    "currDir = os.getcwd()\n",
    "\n",
    "# Ottieni la directory padre\n",
    "parent_dir = os.path.dirname(currDir)\n",
    "\n",
    "# Costruisci il percorso completo utilizzando os.path.join\n",
    "fullOutputPath = os.path.join(parent_dir, \"data\", \"output\", \"output.csv\")\n",
    "\n",
    "# Stampa il percorso per verificare che sia corretto\n",
    "print(fullOutputPath)\n",
    "\n",
    "data.to_csv(fullOutputPath , index=False)\n",
    "\n"
   ]
  }
 ],
 "metadata": {
  "kernelspec": {
   "display_name": "venv",
   "language": "python",
   "name": "python3"
  },
  "language_info": {
   "codemirror_mode": {
    "name": "ipython",
    "version": 3
   },
   "file_extension": ".py",
   "mimetype": "text/x-python",
   "name": "python",
   "nbconvert_exporter": "python",
   "pygments_lexer": "ipython3",
   "version": "3.12.7"
  }
 },
 "nbformat": 4,
 "nbformat_minor": 2
}
